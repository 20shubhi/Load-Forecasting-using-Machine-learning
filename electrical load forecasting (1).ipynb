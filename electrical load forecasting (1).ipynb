!pip install matplotlib 
 
import pandas as pd 
 
# Load the Excel file to examine its contents 
file_path = '/content/Forecasting dataset1.xlsx' 
data = pd.read_excel(file_path) 
data.head() 
 
import numpy as np 
from sklearn.linear_model import LinearRegression 
 
# Prepare the data for forecasting 
years = data['YEAR'].str.split('-', expand=True)[0].astype(int)  # Extracting the start 
year 
energy_total = (data['ENERGY CONSUMPTION (MU)'] + 
                data['ENEGY CONSUMPTION DUE TO URBANIZATION (MU)'] + 
                data['ENERGY CONSUMPTION DUE TO INDUSTRIALIZATION (MU)']) 
 
# Fit a simple linear regression model for forecasting 
model = LinearRegression() 
model.fit(years.values.reshape(-1, 1), energy_total.values) 
 
# Predicting from 2024 to 2030 
future_years = np.arange(2024, 2031).reshape(-1, 1) 
predicted_energy = model.predict(future_years) 
 
# Prepare the results in a DataFrame 
forecasted_data = pd.DataFrame({ 
    'YEAR': future_years.flatten(), 
    'FORECASTED ENERGY CONSUMPTION (MU)': predicted_energy 
}) 
 
forecasted_data 
import matplotlib.pyplot as plt 
# Creating a bar graph of the forecasted energy consumption 
plt.figure(figsize=(10, 6)) 
plt.bar(forecasted_data['YEAR'], forecasted_data['FORECASTED ENERGY CONSUMPTION (MU)'], 
color='teal') 
plt.title('Forecasted Energy Consumption (2024-2030)', fontsize=14) 
plt.xlabel('Year', fontsize=12) 
plt.ylabel('Energy Consumption (MU)', fontsize=12) 
plt.grid(True, linestyle='--', alpha=0.6) 
plt.xticks(forecasted_data['YEAR'], rotation=45) 
plt.tight_layout() 
plt.show()
